{
 "cells": [
  {
   "cell_type": "code",
   "execution_count": 1,
   "id": "474abbc0",
   "metadata": {},
   "outputs": [],
   "source": [
    "url = \"https://www.theguardian.com/environment/sustainable-development\""
   ]
  },
  {
   "cell_type": "code",
   "execution_count": 2,
   "id": "de4b138f",
   "metadata": {},
   "outputs": [],
   "source": [
    "import requests\n",
    "from scrapy.http import HtmlResponse"
   ]
  },
  {
   "cell_type": "code",
   "execution_count": 4,
   "id": "974de477",
   "metadata": {},
   "outputs": [],
   "source": [
    "r = requests.get(url)\n",
    "res = HtmlResponse(\"example.com\" , body = r.text , encoding = \"utf-8\")"
   ]
  },
  {
   "cell_type": "code",
   "execution_count": 19,
   "id": "c6a6045d",
   "metadata": {},
   "outputs": [],
   "source": [
    "t = {\"titles\": []}\n",
    "for j in res.xpath(\"//ul[@class = 'dcr-1jk3t5i']/li//a/@aria-label\"):\n",
    "    t['titles'].append(j.get())"
   ]
  },
  {
   "cell_type": "code",
   "execution_count": 21,
   "id": "0277968d",
   "metadata": {},
   "outputs": [],
   "source": [
    "import pandas as pd"
   ]
  },
  {
   "cell_type": "code",
   "execution_count": 23,
   "id": "53bb3f83",
   "metadata": {},
   "outputs": [
    {
     "name": "stdout",
     "output_type": "stream",
     "text": [
      "Rudra Ecovation unveils sportswear line made from upcycled fabric at PRS Dubai Conference\n",
      "Wall Street may be underestimating an important risk metric\n",
      "Climate finance: What you need to know ahead of COP29\n",
      "India to add record renewables this year as green push gains momentum\n",
      "How IndiQube is turning the ‘grey’ in commercial real estate to ‘green’\n",
      "Europe’s data centers hub sees disappointing clean-power auction\n",
      "EV charging faces deeper problems than we realise\n",
      "Morgan Stanley quietly walks away from plastics financing goal\n",
      "Australian airports face costly fight against worst climate risk\n",
      "Solar farms have a superpower beyond clean energy\n",
      "\n",
      "                            Must Watch\n",
      "                            \n",
      "                            \n",
      "                            \n",
      "                            \n",
      "            \t        \n",
      "Netflix wants to shrink your favourite TV show’s carbon footprint\n",
      "Technology is key to boost efficiency and sustainability of biofuels sector, says Ashvin Patil, Biofuels Junction\n",
      "To save the Panama Canal from drought, a disruptive fix\n",
      "Investors with $13 trillion urge climate approach to superbugs\n",
      "India bets on climate-resilient seeds for food security. But farmers see little value\n",
      "How a Greater Noida firm is shaping the future of energy storage via circular economy\n"
     ]
    }
   ],
   "source": [
    "url2 = \"https://economictimes.indiatimes.com/small-biz/sustainability?from=mdr\"\n",
    "r2 = requests.get(url2)\n",
    "res2 = HtmlResponse(\"example.com\" , body = r2.text , encoding = \"utf-8\")\n",
    "for j in res2.xpath(\"//h3/a/text()\"):\n",
    "    if j.get() != \"MUST WATCH\":\n",
    "        print(j.get())\n",
    "        t['titles'].append(j.get())"
   ]
  },
  {
   "cell_type": "code",
   "execution_count": 26,
   "id": "1e476f6a",
   "metadata": {},
   "outputs": [],
   "source": [
    "i = [j.strip() for j in t['titles']]"
   ]
  },
  {
   "cell_type": "code",
   "execution_count": 28,
   "id": "28a05916",
   "metadata": {},
   "outputs": [],
   "source": [
    "t = {'titles':[]}\n",
    "for _ in i:\n",
    "    if _ != \"Must Watch\":\n",
    "        t['titles'].append(_)"
   ]
  },
  {
   "cell_type": "code",
   "execution_count": 30,
   "id": "5f74f5d2",
   "metadata": {},
   "outputs": [],
   "source": [
    "df = pd.DataFrame(t)\n",
    "df.to_csv(\"initial-dataset-2.csv\")"
   ]
  },
  {
   "cell_type": "code",
   "execution_count": null,
   "id": "45e6cfa2",
   "metadata": {},
   "outputs": [],
   "source": []
  }
 ],
 "metadata": {
  "kernelspec": {
   "display_name": "Python 3 (ipykernel)",
   "language": "python",
   "name": "python3"
  },
  "language_info": {
   "codemirror_mode": {
    "name": "ipython",
    "version": 3
   },
   "file_extension": ".py",
   "mimetype": "text/x-python",
   "name": "python",
   "nbconvert_exporter": "python",
   "pygments_lexer": "ipython3",
   "version": "3.9.13"
  }
 },
 "nbformat": 4,
 "nbformat_minor": 5
}
